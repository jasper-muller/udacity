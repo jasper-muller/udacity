{
 "cells": [
  {
   "cell_type": "markdown",
   "metadata": {},
   "source": [
    "# Wrangling OpenStreetmap data with SQL\n",
    "---\n",
    "Welcome, sir/madam! You are reading the project submission for Project 3 of the Udacity Data Analyst nanodegree, as written by Jasper Müller. This document will hopefully answer all the questions you ever had about the cleanliness of OSM data of the beauftiful Dutch city of Rottterdam. \n",
    "\n",
    "## Rotterdam\n",
    "This is the place where I work as a Data Scientist, and am planning to move to soon. The second largest city in the Netherlands, known for its harbour, its many cultural activities, and its relativly cheap housing. For more information, I suggest you read their [wikipedia page](https://en.wikipedia.org/wiki/Rotterdam). \n",
    "\n",
    "Get your copy of the OSM XML data via either one of the following links:\n",
    "\n",
    "- https://www.openstreetmap.org/relation/1411101#map=12/51.9280/4.4906\n",
    "- http://metro.teczno.com/#rotterdam\n",
    "\n",
    "\n",
    "# Problems Encountered in the Map\n",
    "---\n",
    "\n",
    "## Auditing Postal Codes\n",
    "The first potential issue that comes to mind is to check the formatting of postal codes. Dutch postal codes should all consist of four numbers, followed by two capital letters. There should not be a space between the numbers and the letters. Moreover, for the area of Rotterdam all postal codes should start with either a 2, a 3, or a 4. \n",
    "\n",
    "Auditing the data I find that indeed there are some problematic postal codes. This is mainly caused by a space between the numbers and letters, but there are some other cases: "
   ]
  },
  {
   "cell_type": "code",
   "execution_count": 52,
   "metadata": {
    "collapsed": false
   },
   "outputs": [
    {
     "name": "stdout",
     "output_type": "stream",
     "text": [
      "{'letters_only': 0,\n",
      " 'lower': 7,\n",
      " 'numbers_only': 1,\n",
      " 'other': 0,\n",
      " 'space': 331,\n",
      " 'valid': 613827}\n"
     ]
    }
   ],
   "source": [
    "%run check_postal_codes.py"
   ]
  },
  {
   "cell_type": "markdown",
   "metadata": {},
   "source": [
    "There are 7 postal codes that contain lower-case rather than upper-case letters, and there is even one postcode that consists solely of numbers. "
   ]
  },
  {
   "cell_type": "markdown",
   "metadata": {},
   "source": [
    "## Correcting postal codes\n",
    "Correcting postal codes seems easy. I would say I use the following code to correct the codes: "
   ]
  },
  {
   "cell_type": "code",
   "execution_count": 54,
   "metadata": {
    "collapsed": false
   },
   "outputs": [
    {
     "name": "stdout",
     "output_type": "stream",
     "text": [
      "2611AN\n",
      "2611EG\n",
      "1316VE\n"
     ]
    }
   ],
   "source": [
    "postal_space = '2611 AN'\n",
    "postal_lower_1 = '2611eg'\n",
    "postal_lower_2 = '1316 ve'\n",
    "\n",
    "postals = [postal_space, postal_lower_1, postal_lower_2]\n",
    "\n",
    "for postal in postals: \n",
    "    corrected = postal.replace(\" \", \"\").upper()\n",
    "    print corrected"
   ]
  },
  {
   "cell_type": "markdown",
   "metadata": {},
   "source": [
    "Implementing the code above to loop over the OSM data of Rotterdam, we find the statistics below. By the way, I used to live at all of these three postal codes!"
   ]
  },
  {
   "cell_type": "code",
   "execution_count": null,
   "metadata": {
    "collapsed": true
   },
   "outputs": [],
   "source": [
    "%run correct_postal_codes.py"
   ]
  },
  {
   "cell_type": "markdown",
   "metadata": {},
   "source": [
    "### Count different tag types"
   ]
  },
  {
   "cell_type": "code",
   "execution_count": 2,
   "metadata": {
    "collapsed": false
   },
   "outputs": [
    {
     "name": "stdout",
     "output_type": "stream",
     "text": [
      "defaultdict(<type 'int'>, {'node': 30026, 'nd': 38450, 'member': 829, 'tag': 52464, 'relation': 25, 'way': 4740, 'osm': 1})\n"
     ]
    }
   ],
   "source": [
    "import xml.etree.cElementTree as ET\n",
    "import pprint\n",
    "import re\n",
    "from collections import defaultdict\n",
    "\n",
    "file_in = 'sample.osm'\n",
    "\n",
    "\n",
    "def count_tags(filename):\n",
    "    tag_count = defaultdict(int)\n",
    "\n",
    "    for event, elem in ET.iterparse(filename):\n",
    "        tag_name = elem.tag\n",
    "        tag_count[tag_name] += 1\n",
    "\n",
    "    return tag_count\n",
    "\n",
    "pprint.pprint(count_tags(file_in))"
   ]
  },
  {
   "cell_type": "markdown",
   "metadata": {},
   "source": [
    "I.e. we have ±30.000 nodes and ±4.700 ways. That's good to know!\n",
    "\n",
    "### Count problematic tag types"
   ]
  },
  {
   "cell_type": "code",
   "execution_count": 3,
   "metadata": {
    "collapsed": false
   },
   "outputs": [
    {
     "name": "stdout",
     "output_type": "stream",
     "text": [
      "{'lower': 19327, 'lower_colon': 33121, 'other': 16, 'problemchars': 0}\n"
     ]
    }
   ],
   "source": [
    "lower = re.compile(r'^([a-z]|_)*$')\n",
    "lower_colon = re.compile(r'^([a-z]|_)*:([a-z]|_)*$')\n",
    "problemchars = re.compile(r'[=\\+/&<>;\\'\"\\?%#$@\\,\\. \\t\\r\\n]')\n",
    "\n",
    "\n",
    "def key_type(element, keys):\n",
    "    if element.tag == \"tag\":\n",
    "        key = element.attrib['k']\n",
    "\n",
    "        if lower.search(key):\n",
    "            keys['lower'] += 1\n",
    "        elif lower_colon.search(key):\n",
    "            keys['lower_colon'] += 1\n",
    "        elif problemchars.search(key):\n",
    "            keys['problemchars'] += 1\n",
    "        else:\n",
    "            keys['other'] += 1\n",
    "    return keys\n",
    "\n",
    "\n",
    "def process_map(filename):\n",
    "    keys = {\"lower\": 0, \"lower_colon\": 0, \"problemchars\": 0, \"other\": 0}\n",
    "    for _, element in ET.iterparse(filename):\n",
    "        keys = key_type(element, keys)\n",
    "\n",
    "    return keys\n",
    "\n",
    "keys = process_map(file_in)\n",
    "pprint.pprint(keys)"
   ]
  },
  {
   "cell_type": "markdown",
   "metadata": {},
   "source": [
    "### Get unique users"
   ]
  },
  {
   "cell_type": "code",
   "execution_count": 5,
   "metadata": {
    "collapsed": false,
    "scrolled": true
   },
   "outputs": [
    {
     "name": "stdout",
     "output_type": "stream",
     "text": [
      "262\n",
      "set(['2hands4you',\n",
      "     '3dShapes',\n",
      "     'A67-A67',\n",
      "     'AEelderink',\n",
      "     'AND',\n",
      "     'AND_fixbot',\n",
      "     'A_rnold',\n",
      "     'Aad van Boven',\n",
      "     'Ad Koolmees',\n",
      "     'AlbertP_BAG',\n",
      "     'AlexDT',\n",
      "     'Alkmaarder',\n",
      "     'Alsoft',\n",
      "     'Amaroussi',\n",
      "     'AndiDelft',\n",
      "     'AnkEric',\n",
      "     'ArAge',\n",
      "     'Artep',\n",
      "     'Arthur Pijpers',\n",
      "     'AxiMaxi',\n",
      "     'BAGgeraar',\n",
      "     'Bassniper',\n",
      "     'Beaker73',\n",
      "     'Bert20',\n",
      "     'Biff',\n",
      "     'BikePC',\n",
      "     'Bob de Vreede',\n",
      "     'BugBlue',\n",
      "     'CJTmmr',\n",
      "     'CJTmmr_BAG',\n",
      "     'Capellenaar',\n",
      "     'CeesW',\n",
      "     'Commodoortje',\n",
      "     u'Corn\\xe9 Pronk',\n",
      "     'CyFo',\n",
      "     'DAI',\n",
      "     'DWizzy',\n",
      "     'Davio',\n",
      "     'Delft12',\n",
      "     'Dirk V',\n",
      "     'Emiel1',\n",
      "     'Emile',\n",
      "     'EmptyNutshell',\n",
      "     'Erik@Zuidplas',\n",
      "     'Frank314',\n",
      "     'Fred Marchee',\n",
      "     'FvGordon',\n",
      "     'Geogoeroe',\n",
      "     'GercoKees',\n",
      "     'Gert van der Neut',\n",
      "     'Gertjan Idema',\n",
      "     'Gijsrooy',\n",
      "     'Guppy_78',\n",
      "     'GuustFlater',\n",
      "     'HYS',\n",
      "     'Hamakers',\n",
      "     'Hanno Lans',\n",
      "     'Haoxiang Wu',\n",
      "     'HarryB83',\n",
      "     'Hendrikklaas',\n",
      "     'Hoeboe',\n",
      "     'Hons084',\n",
      "     'Imergis',\n",
      "     \"It's so funny\",\n",
      "     \"It's so funny_BAG\",\n",
      "     \"It's so funny_mechanical\",\n",
      "     'Ivar Clemens',\n",
      "     'JAJ Dekker',\n",
      "     'JJJWegdam',\n",
      "     'JWegdam',\n",
      "     'Jaap Dekker',\n",
      "     'Jack Lelieveld',\n",
      "     'Jan Westerhof',\n",
      "     'JanRidderkerk',\n",
      "     'Jappie',\n",
      "     'Jarien',\n",
      "     'Jelle_Delft',\n",
      "     'Jeroen Muris',\n",
      "     'Jimiiee',\n",
      "     'Joost van Os',\n",
      "     'Jorrit28',\n",
      "     'Jozzy',\n",
      "     'JvdM',\n",
      "     'Kaaiman',\n",
      "     'Karlvw',\n",
      "     'L Boshuizen',\n",
      "     'Lambiek12',\n",
      "     'Lansin',\n",
      "     'Ldp',\n",
      "     'Loanj002',\n",
      "     'Louis Strous',\n",
      "     'Luis36995',\n",
      "     'Luke Otto',\n",
      "     'Maarten Deen',\n",
      "     'Mafketel',\n",
      "     'MapEdG',\n",
      "     'Marc Weustink',\n",
      "     'Marc-sch',\n",
      "     'Marcel-NL',\n",
      "     'Mark12321',\n",
      "     'Martien Sch',\n",
      "     'Martin Borsje',\n",
      "     'Martin1947',\n",
      "     'Martin2009',\n",
      "     'Martjan',\n",
      "     'Math1985',\n",
      "     'Math1985_mechanical',\n",
      "     'Med',\n",
      "     'Michiel M',\n",
      "     'Munikho',\n",
      "     'NRR',\n",
      "     'Neet',\n",
      "     'OSMF Redaction Account',\n",
      "     'OliverH',\n",
      "     'OpenZwerver',\n",
      "     'Ori952',\n",
      "     'PA94',\n",
      "     'PJS',\n",
      "     'PTT',\n",
      "     'Pascalbosch112',\n",
      "     'Peter van Campenhout',\n",
      "     'Peter_Kmn',\n",
      "     'Pptje',\n",
      "     'Quinten11',\n",
      "     'Reboli_NL',\n",
      "     'Reinout',\n",
      "     'Richard2468',\n",
      "     'Rob de Bob',\n",
      "     'Robert Tromp',\n",
      "     'Rolie',\n",
      "     'Sander H',\n",
      "     'Sander H_BAG',\n",
      "     'Senjer',\n",
      "     'SimonA',\n",
      "     'Skywave',\n",
      "     'Slowie',\n",
      "     'Stefan de Konink',\n",
      "     'Steven Vance',\n",
      "     'Stollie',\n",
      "     'Surf2it',\n",
      "     'Sven Witte',\n",
      "     'Sventje2',\n",
      "     'Sycorax',\n",
      "     'Tachi',\n",
      "     'The Maarssen Mapper',\n",
      "     'The Unconventional',\n",
      "     'TheoV',\n",
      "     'TheoVeldhuizen',\n",
      "     'ToffeHoff',\n",
      "     'Tom1986',\n",
      "     'Tourepel',\n",
      "     'TuuronTour',\n",
      "     'Urban Assault',\n",
      "     'Velaveni',\n",
      "     'Von Humboldt',\n",
      "     'WJtW',\n",
      "     u'Walter Schl\\xf6gl',\n",
      "     'WeBBleR',\n",
      "     'WernerP',\n",
      "     'West Erop',\n",
      "     'Whimself',\n",
      "     u'Zugf\\xfchrer',\n",
      "     'Zugo',\n",
      "     'abbst',\n",
      "     'adjuva',\n",
      "     'alexanderpas',\n",
      "     'antigonim',\n",
      "     'boltgolt',\n",
      "     'boute002',\n",
      "     'boxed',\n",
      "     'brandmeester',\n",
      "     'bz2',\n",
      "     'captain007',\n",
      "     'carens',\n",
      "     'cbdavis',\n",
      "     'cisca1953',\n",
      "     'd161n3u7',\n",
      "     'dannykath',\n",
      "     'datalogg',\n",
      "     'dd1',\n",
      "     'de vries',\n",
      "     'donpeter',\n",
      "     'doortrapper',\n",
      "     'driveland',\n",
      "     'dubbelbb',\n",
      "     'edwin',\n",
      "     'edwin_wisse',\n",
      "     'eggie',\n",
      "     'emvee',\n",
      "     'erin1990710',\n",
      "     'exmpletree',\n",
      "     'fachael',\n",
      "     'ff5722',\n",
      "     'flierfy',\n",
      "     'frenz',\n",
      "     'fsteggink',\n",
      "     'gormur',\n",
      "     'gpsherman',\n",
      "     'gvb',\n",
      "     'haavee',\n",
      "     'haichengliu',\n",
      "     'hgjvanasten',\n",
      "     'highbuilder',\n",
      "     'hspaans',\n",
      "     'hvdwolf_BAG',\n",
      "     'idovitz',\n",
      "     'jaimemd',\n",
      "     'jamy015',\n",
      "     'jeij',\n",
      "     'jengelh',\n",
      "     'johanmyst_BAG',\n",
      "     'jorgejorgejorge',\n",
      "     'ju_bb',\n",
      "     'kannix',\n",
      "     'klimpetje',\n",
      "     'ligfietser',\n",
      "     'lyctkel',\n",
      "     'malcolmh',\n",
      "     'marczoutendijk',\n",
      "     'marenko',\n",
      "     'martijnerhardt',\n",
      "     'mash00',\n",
      "     'mfvl',\n",
      "     'milovanderlinden',\n",
      "     'mono11',\n",
      "     'myhd',\n",
      "     'nimapper',\n",
      "     'opani',\n",
      "     'opani_BAG',\n",
      "     'padvinder',\n",
      "     'pazzop',\n",
      "     'peSHIr',\n",
      "     'pieleric',\n",
      "     'pitdicker',\n",
      "     'pittrichimica',\n",
      "     'pjdebruin',\n",
      "     'ramyaragupathy',\n",
      "     'rheuvels',\n",
      "     'rivw',\n",
      "     'rivw_BAG',\n",
      "     'robgeb',\n",
      "     'robinBHM',\n",
      "     'rolfst',\n",
      "     'royb33',\n",
      "     'ruudblank_BAG',\n",
      "     'samely',\n",
      "     'sebastic',\n",
      "     'sladen',\n",
      "     'slhh',\n",
      "     'speedy666',\n",
      "     'stroet43',\n",
      "     'textlijn',\n",
      "     'the Sandinator',\n",
      "     'thickness',\n",
      "     'uboot',\n",
      "     'ulmtuelp',\n",
      "     'unknown365',\n",
      "     'vussiewussie',\n",
      "     'weggelegd',\n",
      "     'wvdp',\n",
      "     'xnyhps',\n",
      "     'xybot'])\n"
     ]
    }
   ],
   "source": [
    "def get_user(element):\n",
    "    try:\n",
    "        return element.attrib['user']\n",
    "    except:\n",
    "        return None\n",
    "\n",
    "\n",
    "def process_map(filename):\n",
    "    users = set()\n",
    "    for _, element in ET.iterparse(filename):\n",
    "        user = get_user(element)\n",
    "        if user != None:\n",
    "            users.add(user)\n",
    "    return users\n",
    "\n",
    "users = process_map(file_in)\n",
    "print len(users)\n",
    "pprint.pprint(users)"
   ]
  },
  {
   "cell_type": "markdown",
   "metadata": {},
   "source": [
    "Apparently we have a total of 262 unique users that contributed to this map. "
   ]
  },
  {
   "cell_type": "markdown",
   "metadata": {
    "collapsed": true
   },
   "source": [
    "## Ideas for initial exploration of data\n",
    "\n",
    "1. Check postal codes, should all be in format 9999AA and should start with a 2, 3, or 4 in this region. \n",
    "2. Check street and city names for weird characters such as: ,./?'\";:[]{}-_+=()*&^%$#@!`~\n",
    "3. Since I will be living in Rotterdam soon, I would like to check out where the most bars are. "
   ]
  },
  {
   "cell_type": "markdown",
   "metadata": {},
   "source": [
    "### Postal codes\n",
    "Here is an initial script that I wrote. It checks for postal codes that do not start with a 2, 3, or 4. \n"
   ]
  },
  {
   "cell_type": "code",
   "execution_count": 51,
   "metadata": {
    "collapsed": false
   },
   "outputs": [
    {
     "data": {
      "text/plain": [
       "'2611an'"
      ]
     },
     "execution_count": 51,
     "metadata": {},
     "output_type": "execute_result"
    }
   ],
   "source": [
    "postal_lower = re.compile(r'[\\d]{4} *[a-z]{2}')\n",
    "postal_lower.search('2611an').group()"
   ]
  },
  {
   "cell_type": "code",
   "execution_count": 37,
   "metadata": {
    "collapsed": false
   },
   "outputs": [
    {
     "data": {
      "text/plain": [
       "False"
      ]
     },
     "execution_count": 37,
     "metadata": {},
     "output_type": "execute_result"
    }
   ],
   "source": []
  },
  {
   "cell_type": "code",
   "execution_count": null,
   "metadata": {
    "collapsed": true
   },
   "outputs": [],
   "source": []
  }
 ],
 "metadata": {
  "kernelspec": {
   "display_name": "Python 2",
   "language": "python",
   "name": "python2"
  },
  "language_info": {
   "codemirror_mode": {
    "name": "ipython",
    "version": 2
   },
   "file_extension": ".py",
   "mimetype": "text/x-python",
   "name": "python",
   "nbconvert_exporter": "python",
   "pygments_lexer": "ipython2",
   "version": "2.7.11"
  }
 },
 "nbformat": 4,
 "nbformat_minor": 0
}
